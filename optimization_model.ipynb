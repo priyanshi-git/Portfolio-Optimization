{
  "nbformat": 4,
  "nbformat_minor": 0,
  "metadata": {
    "colab": {
      "name": "optimization_model.ipynb",
      "provenance": [],
      "authorship_tag": "ABX9TyMgwDlV4j5VybHFv2rWkh+a",
      "include_colab_link": true
    },
    "kernelspec": {
      "name": "python3",
      "display_name": "Python 3"
    },
    "language_info": {
      "name": "python"
    }
  },
  "cells": [
    {
      "cell_type": "markdown",
      "metadata": {
        "id": "view-in-github",
        "colab_type": "text"
      },
      "source": [
        "<a href=\"https://colab.research.google.com/github/priyanshi-git/Portfolio-Optimization/blob/main/optimization_model.ipynb\" target=\"_parent\"><img src=\"https://colab.research.google.com/assets/colab-badge.svg\" alt=\"Open In Colab\"/></a>"
      ]
    },
    {
      "cell_type": "code",
      "source": [
        "pip install pulp"
      ],
      "metadata": {
        "colab": {
          "base_uri": "https://localhost:8080/"
        },
        "id": "AsDluNLDu3iQ",
        "outputId": "c4a4c237-03ae-4f22-f2c6-2e84ae8519ae"
      },
      "execution_count": 20,
      "outputs": [
        {
          "output_type": "stream",
          "name": "stdout",
          "text": [
            "Looking in indexes: https://pypi.org/simple, https://us-python.pkg.dev/colab-wheels/public/simple/\n",
            "Requirement already satisfied: pulp in /usr/local/lib/python3.7/dist-packages (2.6.0)\n"
          ]
        }
      ]
    },
    {
      "cell_type": "code",
      "execution_count": 21,
      "metadata": {
        "id": "BFo_epfypC_n"
      },
      "outputs": [],
      "source": [
        "#Importing the necessary modules\n",
        "\n",
        "import pandas as pd\n",
        "import numpy as np\n",
        "from pulp import *"
      ]
    },
    {
      "cell_type": "code",
      "source": [
        "#creating the dataframe of the necessary data\n",
        "\n",
        "df = pd.read_excel(r'/content/TOP 15 ASSETS Data.xlsx')\n",
        "print(df.head())"
      ],
      "metadata": {
        "colab": {
          "base_uri": "https://localhost:8080/"
        },
        "id": "KEMg94g-pMQs",
        "outputId": "f470b5f6-c8f1-416a-eb41-1578552f99c3"
      },
      "execution_count": 22,
      "outputs": [
        {
          "output_type": "stream",
          "name": "stdout",
          "text": [
            "        Date   Asset 1   Asset 2   Asset 3   Asset 4   Asset 5   Asset 6  \\\n",
            "0 2020-01-01 -0.005043 -0.005036  0.000775 -0.003363  0.001497  0.003876   \n",
            "1 2020-01-02 -0.007497  0.006632 -0.005470 -0.009216  0.022186  0.004874   \n",
            "2 2020-01-03 -0.006809 -0.001751 -0.006226 -0.012125 -0.010459  0.001935   \n",
            "3 2020-01-06  0.003964  0.001858  0.002741 -0.008733  0.014661  0.003019   \n",
            "4 2020-01-07 -0.008216  0.004525  0.004504  0.007033 -0.014113 -0.005396   \n",
            "\n",
            "    Asset 7   Asset 8   Asset 9  Asset 10  Asset 11  Asset 12  Asset 13  \\\n",
            "0  0.004524  0.004192  0.002422  0.002797 -0.001422 -0.009238 -0.004591   \n",
            "1 -0.004781 -0.000220  0.011277  0.020051 -0.021920 -0.015684  0.019929   \n",
            "2 -0.005512 -0.011975  0.004182 -0.005213 -0.025265 -0.011198 -0.000091   \n",
            "3  0.004815 -0.010119  0.012096  0.003866  0.010105  0.000099  0.002454   \n",
            "4 -0.004281  0.030892 -0.001567  0.002567  0.002552  0.007011  0.022395   \n",
            "\n",
            "   Asset 14  Asset 15  \n",
            "0 -0.002918 -0.002046  \n",
            "1  0.015380 -0.010764  \n",
            "2 -0.009584  0.000518  \n",
            "3 -0.014820 -0.007250  \n",
            "4 -0.013326 -0.005999  \n"
          ]
        }
      ]
    },
    {
      "cell_type": "code",
      "source": [
        "df.to_csv (\"Asset.csv\", index = None, header=True) #turned it into csv to use numpy efficiently\n",
        "asset_data = pd.read_csv(\"Asset.csv\")\n",
        "pd.DataFrame(asset_data)"
      ],
      "metadata": {
        "colab": {
          "base_uri": "https://localhost:8080/",
          "height": 424
        },
        "id": "DpUczqVYniJE",
        "outputId": "5e3e033c-9123-4dd7-de7b-51e94a216d57"
      },
      "execution_count": 23,
      "outputs": [
        {
          "output_type": "execute_result",
          "data": {
            "text/plain": [
              "           Date   Asset 1   Asset 2   Asset 3   Asset 4   Asset 5   Asset 6  \\\n",
              "0    2020-01-01 -0.005043 -0.005036  0.000775 -0.003363  0.001497  0.003876   \n",
              "1    2020-01-02 -0.007497  0.006632 -0.005470 -0.009216  0.022186  0.004874   \n",
              "2    2020-01-03 -0.006809 -0.001751 -0.006226 -0.012125 -0.010459  0.001935   \n",
              "3    2020-01-06  0.003964  0.001858  0.002741 -0.008733  0.014661  0.003019   \n",
              "4    2020-01-07 -0.008216  0.004525  0.004504  0.007033 -0.014113 -0.005396   \n",
              "..          ...       ...       ...       ...       ...       ...       ...   \n",
              "118  2020-06-25  0.000000 -0.001997 -0.008720 -0.006523 -0.015790  0.008711   \n",
              "119  2020-06-26  0.015751 -0.006190  0.013346  0.002839  0.004271 -0.014527   \n",
              "120  2020-06-29 -0.007210 -0.007273 -0.001351  0.026882 -0.018776 -0.016274   \n",
              "121  2020-06-30 -0.020539 -0.008492 -0.004404 -0.021870 -0.010149 -0.016521   \n",
              "122  2020-07-01 -1.000000 -1.000000 -1.000000 -1.000000 -1.000000 -1.000000   \n",
              "\n",
              "      Asset 7   Asset 8   Asset 9  Asset 10  Asset 11  Asset 12  Asset 13  \\\n",
              "0    0.004524  0.004192  0.002422  0.002797 -0.001422 -0.009238 -0.004591   \n",
              "1   -0.004781 -0.000220  0.011277  0.020051 -0.021920 -0.015684  0.019929   \n",
              "2   -0.005512 -0.011975  0.004182 -0.005213 -0.025265 -0.011198 -0.000091   \n",
              "3    0.004815 -0.010119  0.012096  0.003866  0.010105  0.000099  0.002454   \n",
              "4   -0.004281  0.030892 -0.001567  0.002567  0.002552  0.007011  0.022395   \n",
              "..        ...       ...       ...       ...       ...       ...       ...   \n",
              "118  0.001739  0.002505  0.033226  0.022452 -0.001332  0.016717  0.050965   \n",
              "119  0.018184  0.011956 -0.025505 -0.015469  0.003083 -0.002825 -0.008118   \n",
              "120  0.024025 -0.012784 -0.000228  0.005689 -0.002660 -0.011698 -0.009278   \n",
              "121 -0.016053  0.000536 -0.002732 -0.009159  0.000326  0.005662  0.004755   \n",
              "122 -1.000000 -1.000000 -1.000000 -1.000000 -1.000000 -1.000000 -1.000000   \n",
              "\n",
              "     Asset 14  Asset 15  \n",
              "0   -0.002918 -0.002046  \n",
              "1    0.015380 -0.010764  \n",
              "2   -0.009584  0.000518  \n",
              "3   -0.014820 -0.007250  \n",
              "4   -0.013326 -0.005999  \n",
              "..        ...       ...  \n",
              "118  0.068094 -0.000836  \n",
              "119 -0.021986 -0.005302  \n",
              "120  0.005740 -0.019074  \n",
              "121 -0.005503 -0.008007  \n",
              "122 -1.000000 -1.000000  \n",
              "\n",
              "[123 rows x 16 columns]"
            ],
            "text/html": [
              "\n",
              "  <div id=\"df-52d227ad-d2ba-4302-9237-bbd9c94f2332\">\n",
              "    <div class=\"colab-df-container\">\n",
              "      <div>\n",
              "<style scoped>\n",
              "    .dataframe tbody tr th:only-of-type {\n",
              "        vertical-align: middle;\n",
              "    }\n",
              "\n",
              "    .dataframe tbody tr th {\n",
              "        vertical-align: top;\n",
              "    }\n",
              "\n",
              "    .dataframe thead th {\n",
              "        text-align: right;\n",
              "    }\n",
              "</style>\n",
              "<table border=\"1\" class=\"dataframe\">\n",
              "  <thead>\n",
              "    <tr style=\"text-align: right;\">\n",
              "      <th></th>\n",
              "      <th>Date</th>\n",
              "      <th>Asset 1</th>\n",
              "      <th>Asset 2</th>\n",
              "      <th>Asset 3</th>\n",
              "      <th>Asset 4</th>\n",
              "      <th>Asset 5</th>\n",
              "      <th>Asset 6</th>\n",
              "      <th>Asset 7</th>\n",
              "      <th>Asset 8</th>\n",
              "      <th>Asset 9</th>\n",
              "      <th>Asset 10</th>\n",
              "      <th>Asset 11</th>\n",
              "      <th>Asset 12</th>\n",
              "      <th>Asset 13</th>\n",
              "      <th>Asset 14</th>\n",
              "      <th>Asset 15</th>\n",
              "    </tr>\n",
              "  </thead>\n",
              "  <tbody>\n",
              "    <tr>\n",
              "      <th>0</th>\n",
              "      <td>2020-01-01</td>\n",
              "      <td>-0.005043</td>\n",
              "      <td>-0.005036</td>\n",
              "      <td>0.000775</td>\n",
              "      <td>-0.003363</td>\n",
              "      <td>0.001497</td>\n",
              "      <td>0.003876</td>\n",
              "      <td>0.004524</td>\n",
              "      <td>0.004192</td>\n",
              "      <td>0.002422</td>\n",
              "      <td>0.002797</td>\n",
              "      <td>-0.001422</td>\n",
              "      <td>-0.009238</td>\n",
              "      <td>-0.004591</td>\n",
              "      <td>-0.002918</td>\n",
              "      <td>-0.002046</td>\n",
              "    </tr>\n",
              "    <tr>\n",
              "      <th>1</th>\n",
              "      <td>2020-01-02</td>\n",
              "      <td>-0.007497</td>\n",
              "      <td>0.006632</td>\n",
              "      <td>-0.005470</td>\n",
              "      <td>-0.009216</td>\n",
              "      <td>0.022186</td>\n",
              "      <td>0.004874</td>\n",
              "      <td>-0.004781</td>\n",
              "      <td>-0.000220</td>\n",
              "      <td>0.011277</td>\n",
              "      <td>0.020051</td>\n",
              "      <td>-0.021920</td>\n",
              "      <td>-0.015684</td>\n",
              "      <td>0.019929</td>\n",
              "      <td>0.015380</td>\n",
              "      <td>-0.010764</td>\n",
              "    </tr>\n",
              "    <tr>\n",
              "      <th>2</th>\n",
              "      <td>2020-01-03</td>\n",
              "      <td>-0.006809</td>\n",
              "      <td>-0.001751</td>\n",
              "      <td>-0.006226</td>\n",
              "      <td>-0.012125</td>\n",
              "      <td>-0.010459</td>\n",
              "      <td>0.001935</td>\n",
              "      <td>-0.005512</td>\n",
              "      <td>-0.011975</td>\n",
              "      <td>0.004182</td>\n",
              "      <td>-0.005213</td>\n",
              "      <td>-0.025265</td>\n",
              "      <td>-0.011198</td>\n",
              "      <td>-0.000091</td>\n",
              "      <td>-0.009584</td>\n",
              "      <td>0.000518</td>\n",
              "    </tr>\n",
              "    <tr>\n",
              "      <th>3</th>\n",
              "      <td>2020-01-06</td>\n",
              "      <td>0.003964</td>\n",
              "      <td>0.001858</td>\n",
              "      <td>0.002741</td>\n",
              "      <td>-0.008733</td>\n",
              "      <td>0.014661</td>\n",
              "      <td>0.003019</td>\n",
              "      <td>0.004815</td>\n",
              "      <td>-0.010119</td>\n",
              "      <td>0.012096</td>\n",
              "      <td>0.003866</td>\n",
              "      <td>0.010105</td>\n",
              "      <td>0.000099</td>\n",
              "      <td>0.002454</td>\n",
              "      <td>-0.014820</td>\n",
              "      <td>-0.007250</td>\n",
              "    </tr>\n",
              "    <tr>\n",
              "      <th>4</th>\n",
              "      <td>2020-01-07</td>\n",
              "      <td>-0.008216</td>\n",
              "      <td>0.004525</td>\n",
              "      <td>0.004504</td>\n",
              "      <td>0.007033</td>\n",
              "      <td>-0.014113</td>\n",
              "      <td>-0.005396</td>\n",
              "      <td>-0.004281</td>\n",
              "      <td>0.030892</td>\n",
              "      <td>-0.001567</td>\n",
              "      <td>0.002567</td>\n",
              "      <td>0.002552</td>\n",
              "      <td>0.007011</td>\n",
              "      <td>0.022395</td>\n",
              "      <td>-0.013326</td>\n",
              "      <td>-0.005999</td>\n",
              "    </tr>\n",
              "    <tr>\n",
              "      <th>...</th>\n",
              "      <td>...</td>\n",
              "      <td>...</td>\n",
              "      <td>...</td>\n",
              "      <td>...</td>\n",
              "      <td>...</td>\n",
              "      <td>...</td>\n",
              "      <td>...</td>\n",
              "      <td>...</td>\n",
              "      <td>...</td>\n",
              "      <td>...</td>\n",
              "      <td>...</td>\n",
              "      <td>...</td>\n",
              "      <td>...</td>\n",
              "      <td>...</td>\n",
              "      <td>...</td>\n",
              "      <td>...</td>\n",
              "    </tr>\n",
              "    <tr>\n",
              "      <th>118</th>\n",
              "      <td>2020-06-25</td>\n",
              "      <td>0.000000</td>\n",
              "      <td>-0.001997</td>\n",
              "      <td>-0.008720</td>\n",
              "      <td>-0.006523</td>\n",
              "      <td>-0.015790</td>\n",
              "      <td>0.008711</td>\n",
              "      <td>0.001739</td>\n",
              "      <td>0.002505</td>\n",
              "      <td>0.033226</td>\n",
              "      <td>0.022452</td>\n",
              "      <td>-0.001332</td>\n",
              "      <td>0.016717</td>\n",
              "      <td>0.050965</td>\n",
              "      <td>0.068094</td>\n",
              "      <td>-0.000836</td>\n",
              "    </tr>\n",
              "    <tr>\n",
              "      <th>119</th>\n",
              "      <td>2020-06-26</td>\n",
              "      <td>0.015751</td>\n",
              "      <td>-0.006190</td>\n",
              "      <td>0.013346</td>\n",
              "      <td>0.002839</td>\n",
              "      <td>0.004271</td>\n",
              "      <td>-0.014527</td>\n",
              "      <td>0.018184</td>\n",
              "      <td>0.011956</td>\n",
              "      <td>-0.025505</td>\n",
              "      <td>-0.015469</td>\n",
              "      <td>0.003083</td>\n",
              "      <td>-0.002825</td>\n",
              "      <td>-0.008118</td>\n",
              "      <td>-0.021986</td>\n",
              "      <td>-0.005302</td>\n",
              "    </tr>\n",
              "    <tr>\n",
              "      <th>120</th>\n",
              "      <td>2020-06-29</td>\n",
              "      <td>-0.007210</td>\n",
              "      <td>-0.007273</td>\n",
              "      <td>-0.001351</td>\n",
              "      <td>0.026882</td>\n",
              "      <td>-0.018776</td>\n",
              "      <td>-0.016274</td>\n",
              "      <td>0.024025</td>\n",
              "      <td>-0.012784</td>\n",
              "      <td>-0.000228</td>\n",
              "      <td>0.005689</td>\n",
              "      <td>-0.002660</td>\n",
              "      <td>-0.011698</td>\n",
              "      <td>-0.009278</td>\n",
              "      <td>0.005740</td>\n",
              "      <td>-0.019074</td>\n",
              "    </tr>\n",
              "    <tr>\n",
              "      <th>121</th>\n",
              "      <td>2020-06-30</td>\n",
              "      <td>-0.020539</td>\n",
              "      <td>-0.008492</td>\n",
              "      <td>-0.004404</td>\n",
              "      <td>-0.021870</td>\n",
              "      <td>-0.010149</td>\n",
              "      <td>-0.016521</td>\n",
              "      <td>-0.016053</td>\n",
              "      <td>0.000536</td>\n",
              "      <td>-0.002732</td>\n",
              "      <td>-0.009159</td>\n",
              "      <td>0.000326</td>\n",
              "      <td>0.005662</td>\n",
              "      <td>0.004755</td>\n",
              "      <td>-0.005503</td>\n",
              "      <td>-0.008007</td>\n",
              "    </tr>\n",
              "    <tr>\n",
              "      <th>122</th>\n",
              "      <td>2020-07-01</td>\n",
              "      <td>-1.000000</td>\n",
              "      <td>-1.000000</td>\n",
              "      <td>-1.000000</td>\n",
              "      <td>-1.000000</td>\n",
              "      <td>-1.000000</td>\n",
              "      <td>-1.000000</td>\n",
              "      <td>-1.000000</td>\n",
              "      <td>-1.000000</td>\n",
              "      <td>-1.000000</td>\n",
              "      <td>-1.000000</td>\n",
              "      <td>-1.000000</td>\n",
              "      <td>-1.000000</td>\n",
              "      <td>-1.000000</td>\n",
              "      <td>-1.000000</td>\n",
              "      <td>-1.000000</td>\n",
              "    </tr>\n",
              "  </tbody>\n",
              "</table>\n",
              "<p>123 rows × 16 columns</p>\n",
              "</div>\n",
              "      <button class=\"colab-df-convert\" onclick=\"convertToInteractive('df-52d227ad-d2ba-4302-9237-bbd9c94f2332')\"\n",
              "              title=\"Convert this dataframe to an interactive table.\"\n",
              "              style=\"display:none;\">\n",
              "        \n",
              "  <svg xmlns=\"http://www.w3.org/2000/svg\" height=\"24px\"viewBox=\"0 0 24 24\"\n",
              "       width=\"24px\">\n",
              "    <path d=\"M0 0h24v24H0V0z\" fill=\"none\"/>\n",
              "    <path d=\"M18.56 5.44l.94 2.06.94-2.06 2.06-.94-2.06-.94-.94-2.06-.94 2.06-2.06.94zm-11 1L8.5 8.5l.94-2.06 2.06-.94-2.06-.94L8.5 2.5l-.94 2.06-2.06.94zm10 10l.94 2.06.94-2.06 2.06-.94-2.06-.94-.94-2.06-.94 2.06-2.06.94z\"/><path d=\"M17.41 7.96l-1.37-1.37c-.4-.4-.92-.59-1.43-.59-.52 0-1.04.2-1.43.59L10.3 9.45l-7.72 7.72c-.78.78-.78 2.05 0 2.83L4 21.41c.39.39.9.59 1.41.59.51 0 1.02-.2 1.41-.59l7.78-7.78 2.81-2.81c.8-.78.8-2.07 0-2.86zM5.41 20L4 18.59l7.72-7.72 1.47 1.35L5.41 20z\"/>\n",
              "  </svg>\n",
              "      </button>\n",
              "      \n",
              "  <style>\n",
              "    .colab-df-container {\n",
              "      display:flex;\n",
              "      flex-wrap:wrap;\n",
              "      gap: 12px;\n",
              "    }\n",
              "\n",
              "    .colab-df-convert {\n",
              "      background-color: #E8F0FE;\n",
              "      border: none;\n",
              "      border-radius: 50%;\n",
              "      cursor: pointer;\n",
              "      display: none;\n",
              "      fill: #1967D2;\n",
              "      height: 32px;\n",
              "      padding: 0 0 0 0;\n",
              "      width: 32px;\n",
              "    }\n",
              "\n",
              "    .colab-df-convert:hover {\n",
              "      background-color: #E2EBFA;\n",
              "      box-shadow: 0px 1px 2px rgba(60, 64, 67, 0.3), 0px 1px 3px 1px rgba(60, 64, 67, 0.15);\n",
              "      fill: #174EA6;\n",
              "    }\n",
              "\n",
              "    [theme=dark] .colab-df-convert {\n",
              "      background-color: #3B4455;\n",
              "      fill: #D2E3FC;\n",
              "    }\n",
              "\n",
              "    [theme=dark] .colab-df-convert:hover {\n",
              "      background-color: #434B5C;\n",
              "      box-shadow: 0px 1px 3px 1px rgba(0, 0, 0, 0.15);\n",
              "      filter: drop-shadow(0px 1px 2px rgba(0, 0, 0, 0.3));\n",
              "      fill: #FFFFFF;\n",
              "    }\n",
              "  </style>\n",
              "\n",
              "      <script>\n",
              "        const buttonEl =\n",
              "          document.querySelector('#df-52d227ad-d2ba-4302-9237-bbd9c94f2332 button.colab-df-convert');\n",
              "        buttonEl.style.display =\n",
              "          google.colab.kernel.accessAllowed ? 'block' : 'none';\n",
              "\n",
              "        async function convertToInteractive(key) {\n",
              "          const element = document.querySelector('#df-52d227ad-d2ba-4302-9237-bbd9c94f2332');\n",
              "          const dataTable =\n",
              "            await google.colab.kernel.invokeFunction('convertToInteractive',\n",
              "                                                     [key], {});\n",
              "          if (!dataTable) return;\n",
              "\n",
              "          const docLinkHtml = 'Like what you see? Visit the ' +\n",
              "            '<a target=\"_blank\" href=https://colab.research.google.com/notebooks/data_table.ipynb>data table notebook</a>'\n",
              "            + ' to learn more about interactive tables.';\n",
              "          element.innerHTML = '';\n",
              "          dataTable['output_type'] = 'display_data';\n",
              "          await google.colab.output.renderOutput(dataTable, element);\n",
              "          const docLink = document.createElement('div');\n",
              "          docLink.innerHTML = docLinkHtml;\n",
              "          element.appendChild(docLink);\n",
              "        }\n",
              "      </script>\n",
              "    </div>\n",
              "  </div>\n",
              "  "
            ]
          },
          "metadata": {},
          "execution_count": 23
        }
      ]
    },
    {
      "cell_type": "code",
      "source": [
        "asset_data.drop(122)\n",
        "asset_data.drop('Date',axis=1,inplace=True)"
      ],
      "metadata": {
        "id": "F8aIr2v_74DN"
      },
      "execution_count": 24,
      "outputs": []
    },
    {
      "cell_type": "code",
      "source": [
        "mu = np.array(asset_data.mean(axis=0)) #column-wise mean of all the assets stored in array\n",
        "print(mu)"
      ],
      "metadata": {
        "colab": {
          "base_uri": "https://localhost:8080/"
        },
        "id": "8PcZq96Sp8-d",
        "outputId": "a31e4094-f4e3-457d-8c44-d8a7b034a8ef"
      },
      "execution_count": 25,
      "outputs": [
        {
          "output_type": "stream",
          "name": "stdout",
          "text": [
            "[-0.00547705 -0.00532116 -0.0067501  -0.0066523  -0.0070645  -0.00607412\n",
            " -0.00637036 -0.00590831 -0.00875084 -0.00798528 -0.00824065 -0.00815862\n",
            " -0.00796011 -0.00761547 -0.00849051]\n"
          ]
        }
      ]
    },
    {
      "cell_type": "code",
      "source": [
        "c_it = []\n",
        "for t in range(122):\n",
        "  c_it.append(np.array(asset_data.loc[t])-mu)\n",
        "c_it = np.array(c_it)\n",
        "print(c_it)"
      ],
      "metadata": {
        "id": "lAYuP1hFgLwQ",
        "colab": {
          "base_uri": "https://localhost:8080/"
        },
        "outputId": "53692cac-b9e6-4452-a68d-bee3f48d14c2"
      },
      "execution_count": 26,
      "outputs": [
        {
          "output_type": "stream",
          "name": "stdout",
          "text": [
            "[[ 0.00043404  0.00028539  0.00752469 ...  0.00336946  0.00469774\n",
            "   0.00644449]\n",
            " [-0.00202028  0.01195309  0.00128056 ...  0.02788929  0.02299587\n",
            "  -0.0022733 ]\n",
            " [-0.00133225  0.00357021  0.00052431 ...  0.0078693  -0.00196895\n",
            "   0.0090087 ]\n",
            " ...\n",
            " [ 0.02122755 -0.00086848  0.02009618 ... -0.00015754 -0.01437075\n",
            "   0.003189  ]\n",
            " [-0.00173341 -0.0019514   0.00539878 ... -0.00131832  0.01335525\n",
            "  -0.01058386]\n",
            " [-0.01506185 -0.00317066  0.00234642 ...  0.01271487  0.0021123\n",
            "   0.0004836 ]]\n"
          ]
        }
      ]
    },
    {
      "cell_type": "code",
      "source": [
        "port_opt = LpProblem('Portfolio_optimization', LpMinimize)\n",
        "\n",
        "x1 = LpVariable(\"x1\", lowBound = 0)\n",
        "x2 = LpVariable(\"x2\", lowBound = 0)\n",
        "x3 = LpVariable(\"x3\", lowBound = 0)\n",
        "x4 = LpVariable(\"x4\", lowBound = 0)\n",
        "x5 = LpVariable(\"x5\", lowBound = 0)\n",
        "x6 = LpVariable(\"x6\", lowBound = 0)\n",
        "x7 = LpVariable(\"x7\", lowBound = 0)\n",
        "x8 = LpVariable(\"x8\", lowBound = 0)\n",
        "x9 = LpVariable(\"x9\", lowBound = 0)\n",
        "x10 = LpVariable(\"x10\", lowBound = 0)\n",
        "x11 = LpVariable(\"x11\", lowBound = 0)\n",
        "x12 = LpVariable(\"x12\", lowBound = 0)\n",
        "x13 = LpVariable(\"x13\", lowBound = 0)\n",
        "x14 = LpVariable(\"x14\", lowBound = 0)\n",
        "x15 = LpVariable(\"x15\", lowBound = 0)\n",
        "\n",
        "X = np.array([[x1],[x2],[x3],[x4],[x5],[x6],[x7],[x8],[x9],[x10],[x11],[x12],[x13],[x14],[x15]])"
      ],
      "metadata": {
        "id": "gGwzPGJ26Id6"
      },
      "execution_count": 27,
      "outputs": []
    },
    {
      "cell_type": "code",
      "source": [
        "z_t = np.dot(c_it,X)"
      ],
      "metadata": {
        "id": "U_MOSd10Pu6E"
      },
      "execution_count": 28,
      "outputs": []
    },
    {
      "cell_type": "code",
      "source": [
        "Y = []\n",
        "for i in range(122):\n",
        "  y_i = LpVariable(f'y_{i}', lowBound=0)\n",
        "  Y.append(y_i)\n",
        "\n",
        "print(sum(Y)/122)"
      ],
      "metadata": {
        "colab": {
          "base_uri": "https://localhost:8080/"
        },
        "id": "f7zbMx2MvL1O",
        "outputId": "5d13af9e-fb53-4f0a-95ed-557bdc366c41"
      },
      "execution_count": 29,
      "outputs": [
        {
          "output_type": "stream",
          "name": "stdout",
          "text": [
            "0.00819672131147541*y_0 + 0.00819672131147541*y_1 + 0.00819672131147541*y_10 + 0.00819672131147541*y_100 + 0.00819672131147541*y_101 + 0.00819672131147541*y_102 + 0.00819672131147541*y_103 + 0.00819672131147541*y_104 + 0.00819672131147541*y_105 + 0.00819672131147541*y_106 + 0.00819672131147541*y_107 + 0.00819672131147541*y_108 + 0.00819672131147541*y_109 + 0.00819672131147541*y_11 + 0.00819672131147541*y_110 + 0.00819672131147541*y_111 + 0.00819672131147541*y_112 + 0.00819672131147541*y_113 + 0.00819672131147541*y_114 + 0.00819672131147541*y_115 + 0.00819672131147541*y_116 + 0.00819672131147541*y_117 + 0.00819672131147541*y_118 + 0.00819672131147541*y_119 + 0.00819672131147541*y_12 + 0.00819672131147541*y_120 + 0.00819672131147541*y_121 + 0.00819672131147541*y_13 + 0.00819672131147541*y_14 + 0.00819672131147541*y_15 + 0.00819672131147541*y_16 + 0.00819672131147541*y_17 + 0.00819672131147541*y_18 + 0.00819672131147541*y_19 + 0.00819672131147541*y_2 + 0.00819672131147541*y_20 + 0.00819672131147541*y_21 + 0.00819672131147541*y_22 + 0.00819672131147541*y_23 + 0.00819672131147541*y_24 + 0.00819672131147541*y_25 + 0.00819672131147541*y_26 + 0.00819672131147541*y_27 + 0.00819672131147541*y_28 + 0.00819672131147541*y_29 + 0.00819672131147541*y_3 + 0.00819672131147541*y_30 + 0.00819672131147541*y_31 + 0.00819672131147541*y_32 + 0.00819672131147541*y_33 + 0.00819672131147541*y_34 + 0.00819672131147541*y_35 + 0.00819672131147541*y_36 + 0.00819672131147541*y_37 + 0.00819672131147541*y_38 + 0.00819672131147541*y_39 + 0.00819672131147541*y_4 + 0.00819672131147541*y_40 + 0.00819672131147541*y_41 + 0.00819672131147541*y_42 + 0.00819672131147541*y_43 + 0.00819672131147541*y_44 + 0.00819672131147541*y_45 + 0.00819672131147541*y_46 + 0.00819672131147541*y_47 + 0.00819672131147541*y_48 + 0.00819672131147541*y_49 + 0.00819672131147541*y_5 + 0.00819672131147541*y_50 + 0.00819672131147541*y_51 + 0.00819672131147541*y_52 + 0.00819672131147541*y_53 + 0.00819672131147541*y_54 + 0.00819672131147541*y_55 + 0.00819672131147541*y_56 + 0.00819672131147541*y_57 + 0.00819672131147541*y_58 + 0.00819672131147541*y_59 + 0.00819672131147541*y_6 + 0.00819672131147541*y_60 + 0.00819672131147541*y_61 + 0.00819672131147541*y_62 + 0.00819672131147541*y_63 + 0.00819672131147541*y_64 + 0.00819672131147541*y_65 + 0.00819672131147541*y_66 + 0.00819672131147541*y_67 + 0.00819672131147541*y_68 + 0.00819672131147541*y_69 + 0.00819672131147541*y_7 + 0.00819672131147541*y_70 + 0.00819672131147541*y_71 + 0.00819672131147541*y_72 + 0.00819672131147541*y_73 + 0.00819672131147541*y_74 + 0.00819672131147541*y_75 + 0.00819672131147541*y_76 + 0.00819672131147541*y_77 + 0.00819672131147541*y_78 + 0.00819672131147541*y_79 + 0.00819672131147541*y_8 + 0.00819672131147541*y_80 + 0.00819672131147541*y_81 + 0.00819672131147541*y_82 + 0.00819672131147541*y_83 + 0.00819672131147541*y_84 + 0.00819672131147541*y_85 + 0.00819672131147541*y_86 + 0.00819672131147541*y_87 + 0.00819672131147541*y_88 + 0.00819672131147541*y_89 + 0.00819672131147541*y_9 + 0.00819672131147541*y_90 + 0.00819672131147541*y_91 + 0.00819672131147541*y_92 + 0.00819672131147541*y_93 + 0.00819672131147541*y_94 + 0.00819672131147541*y_95 + 0.00819672131147541*y_96 + 0.00819672131147541*y_97 + 0.00819672131147541*y_98 + 0.00819672131147541*y_99\n"
          ]
        }
      ]
    },
    {
      "cell_type": "code",
      "source": [
        "#objective function\n",
        "port_opt += sum(Y)/122\n",
        "\n",
        "#constraints\n",
        "for i in range(122):\n",
        "  port_opt += Y[i]-z_t[i]>=0\n",
        "  port_opt += Y[i]+z_t[i]>=0\n",
        "\n",
        "port_opt += lpSum(X)==1\n",
        "port_opt += lpSum(np.dot(mu,X))==0.5\n",
        "\n",
        "port_opt.solve()\n",
        "print(LpStatus[port_opt.status])\n",
        "\n"
      ],
      "metadata": {
        "id": "CRaPo2R8XKAk"
      },
      "execution_count": null,
      "outputs": []
    },
    {
      "cell_type": "code",
      "source": [
        "for var in port_opt.variables():\n",
        "    print(f\"{var.name}: {var.value()}\")"
      ],
      "metadata": {
        "id": "135DJcxyh_Mq"
      },
      "execution_count": null,
      "outputs": []
    }
  ]
}